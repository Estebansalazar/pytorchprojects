{
  "nbformat": 4,
  "nbformat_minor": 0,
  "metadata": {
    "colab": {
      "name": "LinnearRegression_class.ipynb",
      "version": "0.3.2",
      "provenance": [],
      "include_colab_link": true
    },
    "kernelspec": {
      "name": "python3",
      "display_name": "Python 3"
    }
  },
  "cells": [
    {
      "cell_type": "markdown",
      "metadata": {
        "id": "view-in-github",
        "colab_type": "text"
      },
      "source": [
        "<a href=\"https://colab.research.google.com/github/Estebansalazar/pytorchprojects/blob/master/LinnearRegression_class.ipynb\" target=\"_parent\"><img src=\"https://colab.research.google.com/assets/colab-badge.svg\" alt=\"Open In Colab\"/></a>"
      ]
    },
    {
      "cell_type": "code",
      "metadata": {
        "id": "zCa24U4-0kC4",
        "colab_type": "code",
        "outputId": "ed97af13-dd8f-4669-ddeb-04a2ec99d951",
        "colab": {
          "base_uri": "https://localhost:8080/",
          "height": 72
        }
      },
      "source": [
        "!pip3 install torch"
      ],
      "execution_count": 0,
      "outputs": [
        {
          "output_type": "stream",
          "text": [
            "Requirement already satisfied: torch in /usr/local/lib/python3.6/dist-packages (1.1.0)\n",
            "Requirement already satisfied: numpy in /usr/local/lib/python3.6/dist-packages (from torch) (1.16.4)\n"
          ],
          "name": "stdout"
        }
      ]
    },
    {
      "cell_type": "code",
      "metadata": {
        "id": "HjGEOkUm0saV",
        "colab_type": "code",
        "colab": {}
      },
      "source": [
        "import torch\n",
        "import torch.nn as nn\n",
        "\n",
        "#importamos nuestro visualizador de datos\n",
        "import matplotlib.pyplot as plt\n",
        "\n",
        "import numpy as np"
      ],
      "execution_count": 0,
      "outputs": []
    },
    {
      "cell_type": "code",
      "metadata": {
        "id": "VsQuFTwV5Yqf",
        "colab_type": "code",
        "outputId": "d8e0be0f-9a6a-42bb-9b7a-18faefc130dd",
        "colab": {
          "base_uri": "https://localhost:8080/",
          "height": 301
        }
      },
      "source": [
        "#retorna un tensor con numeros random. 100 filas y 1 columna\n",
        "X = torch.randn(100,1)*10\n",
        "#agregamos ruido\n",
        "y=X + 3*torch.randn(100,1)\n",
        "\n",
        "plt.plot(X.numpy(),y.numpy(),'o')\n",
        "\n",
        "#imprimeme la x y la y en cada eje¡. \n",
        "plt.ylabel('y')\n",
        "plt.xlabel('x')"
      ],
      "execution_count": 0,
      "outputs": [
        {
          "output_type": "execute_result",
          "data": {
            "text/plain": [
              "Text(0.5, 0, 'x')"
            ]
          },
          "metadata": {
            "tags": []
          },
          "execution_count": 4
        },
        {
          "output_type": "display_data",
          "data": {
            "image/png": "[encoded data removed]",
            "text/plain": [
              "<Figure size 432x288 with 1 Axes>"
            ]
          },
          "metadata": {
            "tags": []
          }
        }
      ]
    },
    {
      "cell_type": "code",
      "metadata": {
        "id": "zfKY27mT0uI5",
        "colab_type": "code",
        "colab": {}
      },
      "source": [
        "#heredamos de nn.Module\n",
        "#creamos nuestro inicializador\n",
        "class LR(nn.Module):\n",
        "  def __init__(self, input_size, output_size):\n",
        "    super().__init__()\n",
        "    self.linear= nn.Linear(input_size,output_size)\n",
        "    \n",
        "  def forward(self,x):\n",
        "    pred =self.linear(x)  \n",
        "    return pred                    \n",
        "                           \n",
        "    "
      ],
      "execution_count": 0,
      "outputs": []
    },
    {
      "cell_type": "code",
      "metadata": {
        "id": "GyFN8SGv1jOf",
        "colab_type": "code",
        "outputId": "b90588eb-696a-4b24-80b3-2585633205ea",
        "colab": {
          "base_uri": "https://localhost:8080/",
          "height": 121
        }
      },
      "source": [
        "#al escribir linear seteamos valores random para pesos y bias\n",
        "torch.manual_seed(1)\n",
        "model =LR(1,1)\n",
        "\n",
        "print(model);\n",
        "\n",
        "#imprimeme en una lista lo que model tiene comprimido\n",
        "\n",
        "print(list(model.parameters()))"
      ],
      "execution_count": 0,
      "outputs": [
        {
          "output_type": "stream",
          "text": [
            "LR(\n",
            "  (linear): Linear(in_features=1, out_features=1, bias=True)\n",
            ")\n",
            "[Parameter containing:\n",
            "tensor([[0.5153]], requires_grad=True), Parameter containing:\n",
            "tensor([-0.4414], requires_grad=True)]\n"
          ],
          "name": "stdout"
        }
      ]
    },
    {
      "cell_type": "code",
      "metadata": {
        "id": "JAqKndXF-0Lm",
        "colab_type": "code",
        "outputId": "bb34a4d5-8949-4d76-c490-0f2da8009837",
        "colab": {
          "base_uri": "https://localhost:8080/",
          "height": 69
        }
      },
      "source": [
        "#desempaquetamos model.parameters, dentro de un arreglo con w y b. Almacenamos los parametros dentro de este arreglo\n",
        "[w,b]=model.parameters()\n",
        "print(w,b)\n",
        "\n",
        "#w es una matriz de [0][0]\n",
        "# b es un vector con valor 0\n",
        "#item nos permite obtener los valores almacenados\n",
        "#w1=w[0][0].item()\n",
        "#b1=b[0].item()\n",
        "#print(w1,b1)\n",
        "\n",
        "def get_params():\n",
        "  return (w[0][0].item(),b[0].item())"
      ],
      "execution_count": 0,
      "outputs": [
        {
          "output_type": "stream",
          "text": [
            "Parameter containing:\n",
            "tensor([[0.5153]], requires_grad=True) Parameter containing:\n",
            "tensor([-0.4414], requires_grad=True)\n"
          ],
          "name": "stdout"
        }
      ]
    },
    {
      "cell_type": "code",
      "metadata": {
        "id": "TnOJXAL39XBa",
        "colab_type": "code",
        "colab": {}
      },
      "source": [
        "def plot_fit(title):\n",
        "  plt.title=title\n",
        "  #igualamos nuestros parametros a sus pess y bias\n",
        "  w1,b1=get_params()\n",
        "  #creamos un array entre --30 y 30\n",
        "  x1=np.array([-30,30])\n",
        "  y1=w1*x1 +b1\n",
        "  plt.plot(x1,y1,'r')\n",
        "  plt.scatter(X,y)\n",
        "  plt.show()"
      ],
      "execution_count": 0,
      "outputs": []
    },
    {
      "cell_type": "code",
      "metadata": {
        "id": "ET0ur2cS9dn5",
        "colab_type": "code",
        "outputId": "cded6a0e-a404-46dd-b5c2-954ac11d530b",
        "colab": {
          "base_uri": "https://localhost:8080/",
          "height": 269
        }
      },
      "source": [
        "plot_fit('initial model')"
      ],
      "execution_count": 0,
      "outputs": [
        {
          "output_type": "display_data",
          "data": {
            "image/png": "[encoded data removed]",
            "text/plain": [
              "<Figure size 432x288 with 1 Axes>"
            ]
          },
          "metadata": {
            "tags": []
          }
        }
      ]
    },
    {
      "cell_type": "code",
      "metadata": {
        "id": "I0bH-BTZCL3W",
        "colab_type": "code",
        "colab": {}
      },
      "source": [
        "#llamamos la funcion de perdida de pytorch\n",
        "criterion=nn.MSELoss()\n",
        "#usamos el optiizador estocastico gradien descent, con un learning rate de 0.01\n",
        "optimizer =  torch.optim.SGD(model.parameters(),lr=0.01)\n",
        " "
      ],
      "execution_count": 0,
      "outputs": []
    },
    {
      "cell_type": "code",
      "metadata": {
        "id": "wF2Dy1nODIWq",
        "colab_type": "code",
        "colab": {
          "base_uri": "https://localhost:8080/",
          "height": 1000
        },
        "outputId": "61b3b004-2899-4b7e-9078-f3e945a0d92e"
      },
      "source": [
        "#epochs cuantas veces queremsos que se repita el proceso de iteración\n",
        "epochs=200\n",
        "losses=[]\n",
        "\n",
        "#en cada epoch queremos reducir el error de nuestro modelo\n",
        "for i in range(epochs):\n",
        "  #hacemos una predicción para cada valor de X usando el método forward, es decir model tiene nuiestros pesos y bias y le pasamos el x para que realice el forward\n",
        "  y_pred=model.forward(X)\n",
        "  \n",
        "  #calculamos el mean square erro con el valor predecido y con el valor actual\n",
        "  loss = criterion(y_pred,y)\n",
        "  #para cada epochs printearemos el loss  \n",
        "  print(\"epochs:\",i,\"loss:\",loss.item())\n",
        "  \n",
        "  #1agregamos nuestros resultados a un array\n",
        "  losses.append(loss)\n",
        "  \n",
        "  #2debemos dejar nuestros gradientes en cero, ya que estos se van acumulando haciendo el loss backforward esto con :  optimizer.zero_grad()\n",
        "  optimizer.zero_grad()\n",
        "  \n",
        "  #3realizamos el backforward propagation al algoritmo\n",
        "  \n",
        "  loss.backward()\n",
        "  \n",
        "  #4le hacemos un update a nuestros parametros (optimizar), esto con la funcion por defecto step()\n",
        "  \n",
        "  optimizer.step()\n",
        "  \n",
        "  \n",
        "  \n",
        "  \n",
        "  \n",
        "  #optimizamos nuestros parametros \n",
        "  "
      ],
      "execution_count": 19,
      "outputs": [
        {
          "output_type": "stream",
          "text": [
            "epochs: 0 loss: 9.977272033691406\n",
            "epochs: 1 loss: 9.977171897888184\n",
            "epochs: 2 loss: 9.97707462310791\n",
            "epochs: 3 loss: 9.976983070373535\n",
            "epochs: 4 loss: 9.976892471313477\n",
            "epochs: 5 loss: 9.976807594299316\n",
            "epochs: 6 loss: 9.976724624633789\n",
            "epochs: 7 loss: 9.976646423339844\n",
            "epochs: 8 loss: 9.976570129394531\n",
            "epochs: 9 loss: 9.976496696472168\n",
            "epochs: 10 loss: 9.97642707824707\n",
            "epochs: 11 loss: 9.976359367370605\n",
            "epochs: 12 loss: 9.97629451751709\n",
            "epochs: 13 loss: 9.976231575012207\n",
            "epochs: 14 loss: 9.97617244720459\n",
            "epochs: 15 loss: 9.976115226745605\n",
            "epochs: 16 loss: 9.976058959960938\n",
            "epochs: 17 loss: 9.976007461547852\n",
            "epochs: 18 loss: 9.975955963134766\n",
            "epochs: 19 loss: 9.975906372070312\n",
            "epochs: 20 loss: 9.975859642028809\n",
            "epochs: 21 loss: 9.975814819335938\n",
            "epochs: 22 loss: 9.975769996643066\n",
            "epochs: 23 loss: 9.975728988647461\n",
            "epochs: 24 loss: 9.975688934326172\n",
            "epochs: 25 loss: 9.975650787353516\n",
            "epochs: 26 loss: 9.975613594055176\n",
            "epochs: 27 loss: 9.975577354431152\n",
            "epochs: 28 loss: 9.975543975830078\n",
            "epochs: 29 loss: 9.975510597229004\n",
            "epochs: 30 loss: 9.975479125976562\n",
            "epochs: 31 loss: 9.975448608398438\n",
            "epochs: 32 loss: 9.975419998168945\n",
            "epochs: 33 loss: 9.975391387939453\n",
            "epochs: 34 loss: 9.975364685058594\n",
            "epochs: 35 loss: 9.97533893585205\n",
            "epochs: 36 loss: 9.975314140319824\n",
            "epochs: 37 loss: 9.975290298461914\n",
            "epochs: 38 loss: 9.97526741027832\n",
            "epochs: 39 loss: 9.975245475769043\n",
            "epochs: 40 loss: 9.975223541259766\n",
            "epochs: 41 loss: 9.975204467773438\n",
            "epochs: 42 loss: 9.975184440612793\n",
            "epochs: 43 loss: 9.975165367126465\n",
            "epochs: 44 loss: 9.975147247314453\n",
            "epochs: 45 loss: 9.975130081176758\n",
            "epochs: 46 loss: 9.975112915039062\n",
            "epochs: 47 loss: 9.975096702575684\n",
            "epochs: 48 loss: 9.975081443786621\n",
            "epochs: 49 loss: 9.975067138671875\n",
            "epochs: 50 loss: 9.975052833557129\n",
            "epochs: 51 loss: 9.9750394821167\n",
            "epochs: 52 loss: 9.97502613067627\n",
            "epochs: 53 loss: 9.975013732910156\n",
            "epochs: 54 loss: 9.975000381469727\n",
            "epochs: 55 loss: 9.974989891052246\n",
            "epochs: 56 loss: 9.97497844696045\n",
            "epochs: 57 loss: 9.974967956542969\n",
            "epochs: 58 loss: 9.974957466125488\n",
            "epochs: 59 loss: 9.974946975708008\n",
            "epochs: 60 loss: 9.974937438964844\n",
            "epochs: 61 loss: 9.97492790222168\n",
            "epochs: 62 loss: 9.974920272827148\n",
            "epochs: 63 loss: 9.9749116897583\n",
            "epochs: 64 loss: 9.974903106689453\n",
            "epochs: 65 loss: 9.974895477294922\n",
            "epochs: 66 loss: 9.97488784790039\n",
            "epochs: 67 loss: 9.974881172180176\n",
            "epochs: 68 loss: 9.974873542785645\n",
            "epochs: 69 loss: 9.97486686706543\n",
            "epochs: 70 loss: 9.974861145019531\n",
            "epochs: 71 loss: 9.974855422973633\n",
            "epochs: 72 loss: 9.974848747253418\n",
            "epochs: 73 loss: 9.97484302520752\n",
            "epochs: 74 loss: 9.974837303161621\n",
            "epochs: 75 loss: 9.974832534790039\n",
            "epochs: 76 loss: 9.97482681274414\n",
            "epochs: 77 loss: 9.974822998046875\n",
            "epochs: 78 loss: 9.974818229675293\n",
            "epochs: 79 loss: 9.974814414978027\n",
            "epochs: 80 loss: 9.974809646606445\n",
            "epochs: 81 loss: 9.97480583190918\n",
            "epochs: 82 loss: 9.974801063537598\n",
            "epochs: 83 loss: 9.974797248840332\n",
            "epochs: 84 loss: 9.974793434143066\n",
            "epochs: 85 loss: 9.974790573120117\n",
            "epochs: 86 loss: 9.974786758422852\n",
            "epochs: 87 loss: 9.974783897399902\n",
            "epochs: 88 loss: 9.974781036376953\n",
            "epochs: 89 loss: 9.974777221679688\n",
            "epochs: 90 loss: 9.974774360656738\n",
            "epochs: 91 loss: 9.974772453308105\n",
            "epochs: 92 loss: 9.974769592285156\n",
            "epochs: 93 loss: 9.974766731262207\n",
            "epochs: 94 loss: 9.974763870239258\n",
            "epochs: 95 loss: 9.974761962890625\n",
            "epochs: 96 loss: 9.974759101867676\n",
            "epochs: 97 loss: 9.974757194519043\n",
            "epochs: 98 loss: 9.97475528717041\n",
            "epochs: 99 loss: 9.974753379821777\n",
            "epochs: 100 loss: 9.974751472473145\n",
            "epochs: 101 loss: 9.974749565124512\n",
            "epochs: 102 loss: 9.974748611450195\n",
            "epochs: 103 loss: 9.974746704101562\n",
            "epochs: 104 loss: 9.974743843078613\n",
            "epochs: 105 loss: 9.974742889404297\n",
            "epochs: 106 loss: 9.974740982055664\n",
            "epochs: 107 loss: 9.974740028381348\n",
            "epochs: 108 loss: 9.974738121032715\n",
            "epochs: 109 loss: 9.974737167358398\n",
            "epochs: 110 loss: 9.974735260009766\n",
            "epochs: 111 loss: 9.97473430633545\n",
            "epochs: 112 loss: 9.974733352661133\n",
            "epochs: 113 loss: 9.974732398986816\n",
            "epochs: 114 loss: 9.9747314453125\n",
            "epochs: 115 loss: 9.974730491638184\n",
            "epochs: 116 loss: 9.97472858428955\n",
            "epochs: 117 loss: 9.974727630615234\n",
            "epochs: 118 loss: 9.974726676940918\n",
            "epochs: 119 loss: 9.974725723266602\n",
            "epochs: 120 loss: 9.974725723266602\n",
            "epochs: 121 loss: 9.974724769592285\n",
            "epochs: 122 loss: 9.974723815917969\n",
            "epochs: 123 loss: 9.974722862243652\n",
            "epochs: 124 loss: 9.974721908569336\n",
            "epochs: 125 loss: 9.974721908569336\n",
            "epochs: 126 loss: 9.97472095489502\n",
            "epochs: 127 loss: 9.974720001220703\n",
            "epochs: 128 loss: 9.974720001220703\n",
            "epochs: 129 loss: 9.974719047546387\n",
            "epochs: 130 loss: 9.97471809387207\n",
            "epochs: 131 loss: 9.97471809387207\n",
            "epochs: 132 loss: 9.974717140197754\n",
            "epochs: 133 loss: 9.974717140197754\n",
            "epochs: 134 loss: 9.974716186523438\n",
            "epochs: 135 loss: 9.974716186523438\n",
            "epochs: 136 loss: 9.974715232849121\n",
            "epochs: 137 loss: 9.974715232849121\n",
            "epochs: 138 loss: 9.974714279174805\n",
            "epochs: 139 loss: 9.974714279174805\n",
            "epochs: 140 loss: 9.974713325500488\n",
            "epochs: 141 loss: 9.974713325500488\n",
            "epochs: 142 loss: 9.974713325500488\n",
            "epochs: 143 loss: 9.974712371826172\n",
            "epochs: 144 loss: 9.974712371826172\n",
            "epochs: 145 loss: 9.974712371826172\n",
            "epochs: 146 loss: 9.974711418151855\n",
            "epochs: 147 loss: 9.974711418151855\n",
            "epochs: 148 loss: 9.974710464477539\n",
            "epochs: 149 loss: 9.974710464477539\n",
            "epochs: 150 loss: 9.974710464477539\n",
            "epochs: 151 loss: 9.974709510803223\n",
            "epochs: 152 loss: 9.974710464477539\n",
            "epochs: 153 loss: 9.974709510803223\n",
            "epochs: 154 loss: 9.974709510803223\n",
            "epochs: 155 loss: 9.974709510803223\n",
            "epochs: 156 loss: 9.974708557128906\n",
            "epochs: 157 loss: 9.974709510803223\n",
            "epochs: 158 loss: 9.974708557128906\n",
            "epochs: 159 loss: 9.974708557128906\n",
            "epochs: 160 loss: 9.97470760345459\n",
            "epochs: 161 loss: 9.974708557128906\n",
            "epochs: 162 loss: 9.97470760345459\n",
            "epochs: 163 loss: 9.974708557128906\n",
            "epochs: 164 loss: 9.97470760345459\n",
            "epochs: 165 loss: 9.97470760345459\n",
            "epochs: 166 loss: 9.97470760345459\n",
            "epochs: 167 loss: 9.974706649780273\n",
            "epochs: 168 loss: 9.97470760345459\n",
            "epochs: 169 loss: 9.974706649780273\n",
            "epochs: 170 loss: 9.974706649780273\n",
            "epochs: 171 loss: 9.974706649780273\n",
            "epochs: 172 loss: 9.974706649780273\n",
            "epochs: 173 loss: 9.974706649780273\n",
            "epochs: 174 loss: 9.974706649780273\n",
            "epochs: 175 loss: 9.974705696105957\n",
            "epochs: 176 loss: 9.974706649780273\n",
            "epochs: 177 loss: 9.974706649780273\n",
            "epochs: 178 loss: 9.974706649780273\n",
            "epochs: 179 loss: 9.974705696105957\n",
            "epochs: 180 loss: 9.974705696105957\n",
            "epochs: 181 loss: 9.974705696105957\n",
            "epochs: 182 loss: 9.974705696105957\n",
            "epochs: 183 loss: 9.974705696105957\n",
            "epochs: 184 loss: 9.974705696105957\n",
            "epochs: 185 loss: 9.974705696105957\n",
            "epochs: 186 loss: 9.974705696105957\n",
            "epochs: 187 loss: 9.974705696105957\n",
            "epochs: 188 loss: 9.97470474243164\n",
            "epochs: 189 loss: 9.974705696105957\n",
            "epochs: 190 loss: 9.97470474243164\n",
            "epochs: 191 loss: 9.974705696105957\n",
            "epochs: 192 loss: 9.97470474243164\n",
            "epochs: 193 loss: 9.97470474243164\n",
            "epochs: 194 loss: 9.974705696105957\n",
            "epochs: 195 loss: 9.974705696105957\n",
            "epochs: 196 loss: 9.97470474243164\n",
            "epochs: 197 loss: 9.97470474243164\n",
            "epochs: 198 loss: 9.97470474243164\n",
            "epochs: 199 loss: 9.97470474243164\n"
          ],
          "name": "stdout"
        }
      ]
    },
    {
      "cell_type": "code",
      "metadata": {
        "id": "f3Xsf14ADnZT",
        "colab_type": "code",
        "colab": {
          "base_uri": "https://localhost:8080/",
          "height": 301
        },
        "outputId": "404478a5-48ef-4906-c2b6-4243d68de029"
      },
      "source": [
        "#imprimimos el numero de epochs y en la \"y\" la perdida\n",
        "plt.plot(range(epochs),losses)\n",
        "plt.ylabel('Loss')\n",
        "plt.xlabel('epochs')"
      ],
      "execution_count": 21,
      "outputs": [
        {
          "output_type": "execute_result",
          "data": {
            "text/plain": [
              "Text(0.5, 0, 'epochs')"
            ]
          },
          "metadata": {
            "tags": []
          },
          "execution_count": 21
        },
        {
          "output_type": "display_data",
          "data": {
            "image/png": "[encoded data removed]",
            "text/plain": [
              "<Figure size 432x288 with 1 Axes>"
            ]
          },
          "metadata": {
            "tags": []
          }
        }
      ]
    },
    {
      "cell_type": "code",
      "metadata": {
        "id": "cYC8CEdPJZBc",
        "colab_type": "code",
        "colab": {
          "base_uri": "https://localhost:8080/",
          "height": 269
        },
        "outputId": "65445d7b-c7fa-4d78-b436-f69ee7dfd971"
      },
      "source": [
        "plot_fit(\"trained Model\")"
      ],
      "execution_count": 22,
      "outputs": [
        {
          "output_type": "display_data",
          "data": {
            "image/png": "[encoded data removed]",
            "text/plain": [
              "<Figure size 432x288 with 1 Axes>"
            ]
          },
          "metadata": {
            "tags": []
          }
        }
      ]
    }
  ]
}